{
 "cells": [
  {
   "cell_type": "markdown",
   "metadata": {},
   "source": [
    "# Contract\n",
    "### Between: April Vondi (Player: Mundi_is_sleeping) and Bob Tan (Player: thelastjosh)\n",
    "\n",
    "Logged July 3, 2018, 14:28 Seed Mean Time\n",
    "\n",
    "**April Vondi** agrees to pay **Bob Tan** 500 shekels of silver upon delivery of 20 camels at **the Vondi house**. But no tomfoolery with the goats; they better all be in good condition or I'm only paying half!\n",
    "\n",
    "April Vondi is a citizen of Klang Colony.\n",
    "Bob Tan is a citizen of Klang Colony.\n",
    "\n",
    "The governing authority is: Klang Colony."
   ]
  },
  {
   "cell_type": "code",
   "execution_count": null,
   "metadata": {
    "collapsed": true
   },
   "outputs": [],
   "source": [
    "import Klang_Colony(Laws), Klang_Colony(Data_Assets)\n",
    "\n",
    "# Citizens\n",
    "a = @April_Vondi\n",
    "b = @Bob_Tan2\n",
    "\n",
    "# Other variables\n",
    "payment = 500 shekels\n",
    "delivery_location = @place_Vondi\n",
    "\n",
    "# Enact contract\n",
    "contract = payment_upon_delivery(payer=a, payee=b, payment, delivery_location, delivery_time=0)\n",
    "SIGN contract # contract is recognized by game system, sends dialog to both parties"
   ]
  },
  {
   "cell_type": "code",
   "execution_count": 3,
   "metadata": {},
   "outputs": [
    {
     "ename": "SyntaxError",
     "evalue": "Missing parentheses in call to 'print' (<ipython-input-3-c0788e9bcca7>, line 2)",
     "output_type": "error",
     "traceback": [
      "\u001b[0;36m  File \u001b[0;32m\"<ipython-input-3-c0788e9bcca7>\"\u001b[0;36m, line \u001b[0;32m2\u001b[0m\n\u001b[0;31m    print delivery_location\u001b[0m\n\u001b[0m                          ^\u001b[0m\n\u001b[0;31mSyntaxError\u001b[0m\u001b[0;31m:\u001b[0m Missing parentheses in call to 'print'\n"
     ]
    }
   ],
   "source": [
    "# you can generate images too!\n",
    "print(delivery_location)"
   ]
  },
  {
   "cell_type": "markdown",
   "metadata": {},
   "source": [
    "We agree to the above contract.\n",
    "\n",
    "Signed and dated\n",
    "\n",
    "April Vondi, July 1, 2018, 11:21 Seed Mean Time\n",
    "\n",
    "Bob Tan, July 3, 2018, 14:28 Seed Mean Time"
   ]
  },
  {
   "cell_type": "code",
   "execution_count": null,
   "metadata": {
    "collapsed": true
   },
   "outputs": [],
   "source": [
    "# secret extra code that runs on every Klang Colony contract goes here\n",
    "UPLOAD_to_log contract, datetime\n",
    "AlERT @@Klang_lawyer"
   ]
  }
 ],
 "metadata": {
  "kernelspec": {
   "display_name": "Python 3",
   "language": "python",
   "name": "python3"
  },
  "language_info": {
   "codemirror_mode": {
    "name": "ipython",
    "version": 3
   },
   "file_extension": ".py",
   "mimetype": "text/x-python",
   "name": "python",
   "nbconvert_exporter": "python",
   "pygments_lexer": "ipython3",
   "version": "3.6.1"
  }
 },
 "nbformat": 4,
 "nbformat_minor": 2
}
